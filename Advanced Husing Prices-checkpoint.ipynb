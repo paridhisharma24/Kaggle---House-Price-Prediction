{
 "cells": [
  {
   "cell_type": "code",
   "execution_count": 1,
   "metadata": {},
   "outputs": [],
   "source": [
    "#importing modules\n",
    "import pandas as pd\n",
    "import numpy as np\n",
    "from sklearn.model_selection import train_test_split\n",
    "from sklearn.tree import DecisionTreeClassifier\n",
    "from sklearn.metrics import mean_squared_log_error\n",
    "from sklearn.preprocessing import StandardScaler\n",
    "from sklearn.pipeline import make_pipeline\n",
    "import matplotlib.pyplot as plt\n",
    "from scipy import stats"
   ]
  },
  {
   "cell_type": "code",
   "execution_count": 10,
   "metadata": {},
   "outputs": [],
   "source": [
    "#loading data from local machine and basic data cleaning\n",
    "\n",
    "data = pd.read_csv(r'D:\\dataset\\advanced housing prices\\train.csv')\n",
    "\n",
    "data['Year'] = data[['YearBuilt', 'YearRemodAdd']].mean(axis = 1).astype(int)\n",
    "data = data.drop(['YearBuilt', 'YearRemodAdd'], axis = 1)\n",
    "\n",
    "relation = data.corr(method =  'pearson')\n",
    "\n",
    "ind = list(relation[relation['SalePrice'] > 0.05].index)\n",
    "data = data[ind]"
   ]
  },
  {
   "cell_type": "code",
   "execution_count": 11,
   "metadata": {},
   "outputs": [],
   "source": [
    "nullval = pd.DataFrame(data.isna().sum(), columns = ['value']) \n",
    "nullval = list((nullval[nullval['value'] < 200]).index)\n",
    "data = data[nullval]"
   ]
  },
  {
   "cell_type": "code",
   "execution_count": 12,
   "metadata": {},
   "outputs": [],
   "source": [
    "unique = []\n",
    "\n",
    "for col in data.columns:\n",
    "    unique.append(len(pd.unique(data[col])))\n",
    "\n",
    "relation = data.columns\n",
    "\n",
    "l = len(unique)\n",
    "for i in range(l):\n",
    "    if unique[i] <= 10:\n",
    "        data = data.drop(relation[i], axis=1)"
   ]
  },
  {
   "cell_type": "code",
   "execution_count": 13,
   "metadata": {},
   "outputs": [],
   "source": [
    "#med = data.mean(axis=0)\n",
    "data = data.fillna(method='ffill')\n",
    "\n",
    "#data.shape[1]\n",
    "data = data[(np.abs(stats.zscore(data)) < 3).all(axis=1)]\n",
    "\n",
    "labels = data['SalePrice']"
   ]
  },
  {
   "cell_type": "code",
   "execution_count": 76,
   "metadata": {},
   "outputs": [],
   "source": [
    "scaler = StandardScaler()\n",
    "scaler.fit(data)\n",
    "data = scaler.transform(data)"
   ]
  },
  {
   "cell_type": "code",
   "execution_count": 6,
   "metadata": {},
   "outputs": [],
   "source": [
    "plt.figure()\n",
    "i = 0\n",
    "for p in relation:\n",
    "    data.plot.scatter(x = p, y ='SalePrice')\n",
    "    \n",
    "data = data.drop(columns=['SalePrice'])\n",
    "relation = data.columns"
   ]
  },
  {
   "cell_type": "code",
   "execution_count": 14,
   "metadata": {},
   "outputs": [],
   "source": [
    "from sklearn import preprocessing\n",
    "norm = preprocessing.scale(data)\n",
    "from sklearn import linear_model\n",
    "reg = linear_model.Lasso(alpha=0.1, normalize=True)"
   ]
  },
  {
   "cell_type": "code",
   "execution_count": 15,
   "metadata": {},
   "outputs": [],
   "source": [
    "#training \n",
    "X_train, X_test, y_train, y_test = train_test_split(norm, labels, test_size=0.33, random_state=42, shuffle=True)\n",
    "reg.fit(X_train, y_train)\n",
    "p = reg.predict(X_test)\n",
    "y_test = np.array(y_test)\n",
    "\n",
    "mean_squared_log_error(y_test, p)"
   ]
  },
  {
   "cell_type": "code",
   "execution_count": 17,
   "metadata": {},
   "outputs": [],
   "source": [
    "reg.fit(data, labels)\n",
    "data1 = pd.read_csv(r'D:\\dataset\\advanced housing prices\\test.csv')\n",
    "\n",
    "data1['Year'] = data1[['YearBuilt', 'YearRemodAdd']].mean(axis = 1).astype(int)\n",
    "data1 = data1.drop(['YearBuilt', 'YearRemodAdd'], axis = 1)\n",
    "index = data1['Id']\n",
    "\n",
    "data1 = data1[relation]\n",
    "        \n",
    "data1 = data1.fillna(method='ffill')\n",
    "p1 = reg.predict(data1)\n",
    "\n",
    "new = pd.DataFrame(columns = ['Id', 'SalePrice'])\n",
    "new['Id'] = index\n",
    "new['SalePrice'] = p1\n",
    "new.to_csv('HP.csv', index = False)"
   ]
  },
  {
   "cell_type": "code",
   "execution_count": 18,
   "metadata": {},
   "outputs": [],
   "source": [
    "p = pd.read_csv('HP.csv')"
   ]
  },
  {
   "cell_type": "code",
   "execution_count": 94,
   "metadata": {},
   "outputs": [
    {
     "data": {
      "text/html": [
       "<div>\n",
       "<style scoped>\n",
       "    .dataframe tbody tr th:only-of-type {\n",
       "        vertical-align: middle;\n",
       "    }\n",
       "\n",
       "    .dataframe tbody tr th {\n",
       "        vertical-align: top;\n",
       "    }\n",
       "\n",
       "    .dataframe thead th {\n",
       "        text-align: right;\n",
       "    }\n",
       "</style>\n",
       "<table border=\"1\" class=\"dataframe\">\n",
       "  <thead>\n",
       "    <tr style=\"text-align: right;\">\n",
       "      <th></th>\n",
       "      <th>Id</th>\n",
       "      <th>SalePrice</th>\n",
       "    </tr>\n",
       "  </thead>\n",
       "  <tbody>\n",
       "    <tr>\n",
       "      <th>0</th>\n",
       "      <td>1461</td>\n",
       "      <td>136290.376402</td>\n",
       "    </tr>\n",
       "    <tr>\n",
       "      <th>1</th>\n",
       "      <td>1462</td>\n",
       "      <td>171964.572079</td>\n",
       "    </tr>\n",
       "    <tr>\n",
       "      <th>2</th>\n",
       "      <td>1463</td>\n",
       "      <td>214307.530243</td>\n",
       "    </tr>\n",
       "    <tr>\n",
       "      <th>3</th>\n",
       "      <td>1464</td>\n",
       "      <td>206644.616289</td>\n",
       "    </tr>\n",
       "    <tr>\n",
       "      <th>4</th>\n",
       "      <td>1465</td>\n",
       "      <td>179829.533962</td>\n",
       "    </tr>\n",
       "    <tr>\n",
       "      <th>...</th>\n",
       "      <td>...</td>\n",
       "      <td>...</td>\n",
       "    </tr>\n",
       "    <tr>\n",
       "      <th>1454</th>\n",
       "      <td>2915</td>\n",
       "      <td>88510.459885</td>\n",
       "    </tr>\n",
       "    <tr>\n",
       "      <th>1455</th>\n",
       "      <td>2916</td>\n",
       "      <td>105968.085520</td>\n",
       "    </tr>\n",
       "    <tr>\n",
       "      <th>1456</th>\n",
       "      <td>2917</td>\n",
       "      <td>201498.028515</td>\n",
       "    </tr>\n",
       "    <tr>\n",
       "      <th>1457</th>\n",
       "      <td>2918</td>\n",
       "      <td>129218.118754</td>\n",
       "    </tr>\n",
       "    <tr>\n",
       "      <th>1458</th>\n",
       "      <td>2919</td>\n",
       "      <td>236431.068083</td>\n",
       "    </tr>\n",
       "  </tbody>\n",
       "</table>\n",
       "<p>1459 rows × 2 columns</p>\n",
       "</div>"
      ],
      "text/plain": [
       "        Id      SalePrice\n",
       "0     1461  136290.376402\n",
       "1     1462  171964.572079\n",
       "2     1463  214307.530243\n",
       "3     1464  206644.616289\n",
       "4     1465  179829.533962\n",
       "...    ...            ...\n",
       "1454  2915   88510.459885\n",
       "1455  2916  105968.085520\n",
       "1456  2917  201498.028515\n",
       "1457  2918  129218.118754\n",
       "1458  2919  236431.068083\n",
       "\n",
       "[1459 rows x 2 columns]"
      ]
     },
     "execution_count": 94,
     "metadata": {},
     "output_type": "execute_result"
    }
   ],
   "source": [
    "p"
   ]
  },
  {
   "cell_type": "code",
   "execution_count": null,
   "metadata": {},
   "outputs": [],
   "source": []
  }
 ],
 "metadata": {
  "kernelspec": {
   "display_name": "Python 3",
   "language": "python",
   "name": "python3"
  },
  "language_info": {
   "codemirror_mode": {
    "name": "ipython",
    "version": 3
   },
   "file_extension": ".py",
   "mimetype": "text/x-python",
   "name": "python",
   "nbconvert_exporter": "python",
   "pygments_lexer": "ipython3",
   "version": "3.7.6"
  }
 },
 "nbformat": 4,
 "nbformat_minor": 4
}
